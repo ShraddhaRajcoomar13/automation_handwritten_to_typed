{
 "cells": [
  {
   "cell_type": "code",
   "execution_count": 1,
   "id": "bd723945",
   "metadata": {},
   "outputs": [
    {
     "name": "stderr",
     "output_type": "stream",
     "text": [
      "C:\\Users\\shraDDhar\\ds\\envs\\OCR\\lib\\site-packages\\numpy\\_distributor_init.py:30: UserWarning: loaded more than 1 DLL from .libs:\n",
      "C:\\Users\\shraDDhar\\ds\\envs\\OCR\\lib\\site-packages\\numpy\\.libs\\libopenblas.QVLO2T66WEPI7JZ63PS3HMOHFEY472BC.gfortran-win_amd64.dll\n",
      "C:\\Users\\shraDDhar\\ds\\envs\\OCR\\lib\\site-packages\\numpy\\.libs\\libopenblas.XWYDX2IKJW2NMTWSFYNGFUWKQU3LYTCZ.gfortran-win_amd64.dll\n",
      "C:\\Users\\shraDDhar\\ds\\envs\\OCR\\lib\\site-packages\\numpy\\.libs\\libopenblas64__v0.3.21-gcc_10_3_0.dll\n",
      "  warnings.warn(\"loaded more than 1 DLL from .libs:\"\n"
     ]
    }
   ],
   "source": [
    "import win32com.client\n",
    "import pandas as pd\n",
    "import time\n",
    "import base64\n",
    "import subprocess\n",
    "time.clock = time.time\n",
    "import boto3\n",
    "import requests\n",
    "import os\n",
    "from datetime import datetime\n",
    "import pandas as pd"
   ]
  },
  {
   "cell_type": "code",
   "execution_count": 2,
   "id": "72309323",
   "metadata": {},
   "outputs": [],
   "source": [
    "AWS_ACCESS_KEY_ID=''\n",
    "AWS_SECRET_ACCESS_KEY=''\n",
    "aws_access_key_id=AWS_ACCESS_KEY_ID,\n",
    "aws_secret_access_key=AWS_SECRET_ACCESS_KEY,\n",
    "region_name='eu-west-1'\n",
    "# Specify your AWS credentials and region\n",
    "aws_access_key_id = AWS_ACCESS_KEY_ID\n",
    "aws_secret_access_key = AWS_SECRET_ACCESS_KEY\n",
    "# Specify the S3 bucket name and the local file path\n",
    "bucket_name = 'ocrbiz'\n",
    "# Initialize Outlook\n",
    "outlook = win32com.client.Dispatch(\"Outlook.Application\").GetNamespace(\"MAPI\")\n",
    "inbox = outlook.GetDefaultFolder(6)  # 6 refers to the inbox folder\n",
    "# Connect to Amazon Textract\n",
    "textract_client = boto3.client('textract', region_name='eu-west-1')\n",
    "session = boto3.Session(\n",
    "    aws_access_key_id=AWS_ACCESS_KEY_ID,\n",
    "    aws_secret_access_key=AWS_SECRET_ACCESS_KEY,\n",
    "    region_name='eu-west-1'\n",
    ")"
   ]
  },
  {
   "cell_type": "code",
   "execution_count": 14,
   "id": "36a453eb",
   "metadata": {},
   "outputs": [],
   "source": [
    "def get_emails():\n",
    "    i=0\n",
    "    lins={}\n",
    "    current_date = datetime.now().date()\n",
    "    fod = current_date.strftime(\"%d-%m-%Y\")\n",
    "    messages = inbox.Items\n",
    "    messages.Sort(\"[ReceivedTime]\", True)\n",
    "    unread_messages = [message for message in messages if message.UnRead == True]\n",
    "    for message in unread_messages:\n",
    "        subject = message.Subject\n",
    "        if \"CONVERT_DOC\" in subject.upper():\n",
    "                try:\n",
    "                    se= message.SenderEmailAddress\n",
    "                    s=se.split(\"-\")[-1]\n",
    "                    if s!=\"A6\":\n",
    "                        print(s)\n",
    "                    else:\n",
    "                        s=\" \"\n",
    "                except:\n",
    "                    se= \"\"\n",
    "                    s=''\n",
    "                attachments = message.Attachments\n",
    "                for attachment in attachments:\n",
    "                    i+=1\n",
    "                    if attachment.FileName.endswith('.jpg') or attachment.FileName.endswith('.png'):\n",
    "                            attachment.SaveAsFile(os.path.join(os.getcwd(), attachment.FileName))\n",
    "                            imgp = os.path.join(r\"C:\\Users\\shraDDhar\\OneDrive - TEVO (Pty) Ltd\\Desktop\\t\\\\\", attachment.FileName)\n",
    "                            unid = \"CONVERTED_DOC\"+str(s)+str(fod)+str(i) # You need to implement this function\n",
    "                            lins[unid]=[imgp,se]\n",
    "    return lins"
   ]
  },
  {
   "cell_type": "code",
   "execution_count": 18,
   "id": "34e852e6",
   "metadata": {},
   "outputs": [],
   "source": [
    "def process_files(lins):\n",
    "    for key,value in lins.items():\n",
    "        unid=key\n",
    "        imgp=value[0]\n",
    "        local_file_path = imgp.split(\"\\\\\")[-1]\n",
    "        # Initialize the S3 client\n",
    "        s3 = boto3.client('s3', aws_access_key_id=aws_access_key_id, aws_secret_access_key=aws_secret_access_key, region_name=region_name)\n",
    "        # Upload the file to S3\n",
    "        s3.upload_file(local_file_path, bucket_name, local_file_path)\n",
    "        print(\"File uploaded successfully to S3 bucket:\", bucket_name)\n",
    "        textract_client = session.client('textract')\n",
    "        # Specify the S3 bucket and object key for the document you want to analyze\n",
    "        s3_bucket = 'ocrbiz'\n",
    "        s3_key = local_file_path\n",
    "        response = textract_client.detect_document_text(\n",
    "        Document={\n",
    "                        'S3Object': {\n",
    "                            'Bucket': s3_bucket,\n",
    "                            'Name': s3_key\n",
    "                        }\n",
    "                    }\n",
    "                )\n",
    "        extracted_text = ''\n",
    "        for item in response['Blocks']:\n",
    "            if item['BlockType'] == 'LINE':\n",
    "                extracted_text += item['Text'] + '\\n'\n",
    "        et=extracted_text.split(\"\\n\")\n",
    "        df=pd.DataFrame(et)\n",
    "        name=r\"t\\\\\"+str(unid)+\".xlsx\"\n",
    "        df.to_excel(name)\n",
    "        outlook = win32com.client.Dispatch(\"Outlook.Application\")\n",
    "        # Example usage\n",
    "        subject = \"CONVERTED_DOC_REQUEST\"\n",
    "        body = \"PLEASE SEE BELOW.\"\n",
    "        to = str(value[1])\n",
    "        attachment_path = name\n",
    "        mail = outlook.CreateItem(0)\n",
    "        mail.Subject = subject\n",
    "        mail.Body = body\n",
    "        mail.To = to\n",
    "        if attachment_path:\n",
    "                attachment = mail.Attachments.Add(attachment_path)\n",
    "        mail.Send()\n",
    "        return \"1\"\n"
   ]
  },
  {
   "cell_type": "code",
   "execution_count": 20,
   "id": "4ae019b7",
   "metadata": {},
   "outputs": [
    {
     "name": "stdout",
     "output_type": "stream",
     "text": [
      "JARED DAVEY\n",
      "JARED DAVEY\n",
      "File uploaded successfully to S3 bucket: ocrbiz\n",
      "1\n"
     ]
    }
   ],
   "source": [
    "k=get_emails()\n",
    "t=process_files(k)\n",
    "print(t)"
   ]
  },
  {
   "cell_type": "code",
   "execution_count": null,
   "id": "3f856b1f",
   "metadata": {},
   "outputs": [],
   "source": []
  }
 ],
 "metadata": {
  "kernelspec": {
   "display_name": "Python 3 (ipykernel)",
   "language": "python",
   "name": "python3"
  },
  "language_info": {
   "codemirror_mode": {
    "name": "ipython",
    "version": 3
   },
   "file_extension": ".py",
   "mimetype": "text/x-python",
   "name": "python",
   "nbconvert_exporter": "python",
   "pygments_lexer": "ipython3",
   "version": "3.8.12"
  }
 },
 "nbformat": 4,
 "nbformat_minor": 5
}
